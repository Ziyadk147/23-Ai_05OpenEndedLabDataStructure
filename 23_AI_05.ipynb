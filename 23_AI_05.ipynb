{
  "nbformat": 4,
  "nbformat_minor": 0,
  "metadata": {
    "colab": {
      "provenance": []
    },
    "kernelspec": {
      "name": "python3",
      "display_name": "Python 3"
    },
    "language_info": {
      "name": "python"
    }
  },
  "cells": [
    {
      "cell_type": "code",
      "execution_count": 1,
      "metadata": {
        "id": "o6PJA4g7aSOD"
      },
      "outputs": [],
      "source": [
        "# 23-AI-05\n",
        "# Open-Ended Lab Task 2:\n",
        "# Objective:\n",
        "# Given a string s which consists of lowercase or uppercase letters, return the length of the longest Palindrome that can be built with those letters. Letters are case sensitive, for example, \"Aa\" is not considered a palindrome.\n",
        "\n",
        "# Submission Requirements:\n",
        "# Submit the program code along with comments explaining key sections of your implementation.\n",
        "# Optional: Submit screenshots of sample outputs or visualizations if implemented.\n",
        "\n",
        "# Examples:\n",
        "# Example 1:\n",
        "# Input: s = \"abccccdd\"\n",
        "# Output: 7\n",
        "# Explanation: One longest palindrome that can be built is \"dccaccd\", whose length is 7.\n",
        "# Example 2:\n",
        "# Input: s = \"a\"\n",
        "# Output: 1\n",
        "# Explanation: The longest palindrome that can be built is \"a\", whose length is 1.\n",
        "\n",
        "\n",
        "\n",
        "# if the length is one return 1\n",
        "# else check if the string contains any palindrom i .e dadddedbdaad\n",
        "\n",
        "# d\n",
        "# a\n",
        "# d\n",
        "# d\n",
        "# e\n",
        "# d\n",
        "# b\n",
        "# d\n",
        "# a\n",
        "# a\n",
        "# d\n",
        "\n",
        "\n",
        "#rough algo\n",
        "#insert all the characters in a stack\n",
        "#take whole string check if its palindrome if not then remove an element from the top and check again if it is\n",
        "#if True then concat the element with the next element and check if it is a palindrome\n",
        "#check if the palindrom is valid\n",
        "#if it is valid then return the count\n",
        "#remove the outer most element"
      ]
    },
    {
      "cell_type": "code",
      "source": [
        "class Stack:\n",
        "    def __init__(self):\n",
        "      self.stack = []\n",
        "    def push(self , data):\n",
        "      self.stack.append(data)\n",
        "    def pop(self ):\n",
        "      if len(self.stack) == 0:\n",
        "        print(\"Stack is Empty\");\n",
        "      else:\n",
        "        return self.stack.pop();\n",
        "    def peek(self):\n",
        "      if len(self.stack) == 0:\n",
        "        print(\"Stack is Empty\");\n",
        "      else:\n",
        "        return self.stack[-1];\n",
        "\n",
        "    def pushAll(self , listArray):\n",
        "      for char in listArray:\n",
        "        self.push(char)\n",
        "      print(self.stack);\n",
        "    def isEmpty(self):\n",
        "      if len(self.stack) == 0:\n",
        "        return True\n",
        "      else:\n",
        "        return False;\n",
        "    def printStack(self):\n",
        "          print()\n",
        "\n",
        "    def getAllElem(self):\n",
        "      string = \"\"\n",
        "      for i in self.stack:\n",
        "        string += i;\n",
        "      return string\n",
        "    def removeTop(self):\n",
        "      if len(self.stack) == 0:\n",
        "        return False\n",
        "      else:\n",
        "        return self.stack.pop(0);"
      ],
      "metadata": {
        "id": "p6X6pfPTcGOW"
      },
      "execution_count": 46,
      "outputs": []
    },
    {
      "cell_type": "code",
      "source": [
        "def checkPalindrome(string):\n",
        "  if (len(string) == 1) or (string[::1] == string[::-1]):\n",
        "    return True\n",
        "  else:\n",
        "    return False\n",
        "\n",
        "\n",
        "def checkLongestPalindrome(stack ):\n",
        "  maxLength = 0\n",
        "  longestPalindrome = \"\"\n",
        "  while not stack.isEmpty():\n",
        "    currentString = stack.getAllElem()\n",
        "    if checkPalindrome(currentString):\n",
        "        if len(currentString) > maxLength:\n",
        "            maxLength = len(currentString)\n",
        "            longestPalindrome = currentString\n",
        "    stack.removeTop()\n",
        "  return maxLength;\n",
        "\n",
        "def main():\n",
        "  questionString = \"dadddedbdaad\"\n",
        "  stack = Stack();\n",
        "  stack.pushAll(questionString);\n",
        "  answer = checkLongestPalindrome(stack )\n",
        "  print(answer)\n",
        "\n",
        "\n",
        "main()\n"
      ],
      "metadata": {
        "colab": {
          "base_uri": "https://localhost:8080/"
        },
        "id": "UPMpB2nDeKZ7",
        "outputId": "8ef61005-2bf3-43eb-85c7-919f664ce5fb"
      },
      "execution_count": 45,
      "outputs": [
        {
          "output_type": "stream",
          "name": "stdout",
          "text": [
            "['d', 'a', 'd', 'd', 'd', 'e', 'd', 'b', 'd', 'a', 'a', 'd']\n",
            "4\n"
          ]
        }
      ]
    }
  ]
}